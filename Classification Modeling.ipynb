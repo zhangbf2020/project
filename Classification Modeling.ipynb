{
 "cells": [
  {
   "cell_type": "markdown",
   "metadata": {},
   "source": [
    "## 1. Pre-model Analysis: process and visualize data; get insights of features and target\n",
    "## Problem Definition: translate the business needs into ml problems; design metrics to measure model performance\n",
    "## Feature Engineering: create features which might improve model performance"
   ]
  },
  {
   "cell_type": "markdown",
   "metadata": {},
   "source": [
    "# # 1.1 Import dataframe and check the data structure"
   ]
  },
  {
   "cell_type": "code",
   "execution_count": 1,
   "metadata": {},
   "outputs": [],
   "source": [
    "import pandas as pd\n",
    "pd.set_option('display.max_columns', None)\n",
    "pd.set_option(\"display.max_row\", 500)\n",
    "import warnings\n",
    "warnings.filterwarnings(\"ignore\")\n",
    "import datetime\n",
    "import matplotlib.pyplot as plt\n",
    "%matplotlib inline"
   ]
  },
  {
   "cell_type": "code",
   "execution_count": 2,
   "metadata": {},
   "outputs": [],
   "source": [
    "df = pd.read_csv(\"Kaggle_COVID19_version6_9-5-20.csv\")"
   ]
  },
  {
   "cell_type": "code",
   "execution_count": 3,
   "metadata": {},
   "outputs": [
    {
     "data": {
      "text/plain": [
       "(628730, 25)"
      ]
     },
     "execution_count": 3,
     "metadata": {},
     "output_type": "execute_result"
    }
   ],
   "source": [
    "df.shape"
   ]
  },
  {
   "cell_type": "code",
   "execution_count": 4,
   "metadata": {},
   "outputs": [
    {
     "name": "stdout",
     "output_type": "stream",
     "text": [
      "\u001b[1mMissing value percentage:\u001b[0m\n"
     ]
    },
    {
     "data": {
      "text/plain": [
       "age                                         76.39\n",
       "age_band                                    76.33\n",
       "background_diseases                         92.87\n",
       "background_diseases_binary                  17.28\n",
       "city                                        44.20\n",
       "confirmed_date                               0.56\n",
       "country                                      0.16\n",
       "date_onset_symptoms                         79.20\n",
       "deceased_date                               99.15\n",
       "infected_by                                 99.74\n",
       "infection_place                             98.19\n",
       "region                                      22.09\n",
       "released_date                               99.22\n",
       "return_date                                 99.62\n",
       "severity_illness                            96.46\n",
       "sex                                         75.56\n",
       "smoking                                     81.43\n",
       "symptoms                                    99.74\n",
       "treatment                                   79.13\n",
       "id                                           0.00\n",
       "return_date_until_date_onset_symptoms       99.78\n",
       "date_onset_symptoms_until_confirmed_date    79.22\n",
       "confirmed_date_until_released_date          99.22\n",
       "confirmed_date_until_deceased_date          99.16\n",
       "severity_illness_infectious_person          99.95\n",
       "dtype: float64"
      ]
     },
     "execution_count": 4,
     "metadata": {},
     "output_type": "execute_result"
    }
   ],
   "source": [
    "print('\\033[1m'+'Missing value percentage:'+'\\033[0m')\n",
    "percent_missing=df.isnull().sum() * 100 / len(df)\n",
    "round(percent_missing, 2)"
   ]
  },
  {
   "cell_type": "markdown",
   "metadata": {},
   "source": [
    "# 1.2 There are 25 coloums and ~630k rows in the dataframe, and most of them have too many missing values."
   ]
  },
  {
   "cell_type": "code",
   "execution_count": 5,
   "metadata": {},
   "outputs": [],
   "source": [
    "df = df[df.country == 'mexico']"
   ]
  },
  {
   "cell_type": "code",
   "execution_count": 6,
   "metadata": {},
   "outputs": [
    {
     "data": {
      "text/plain": [
       "(119323, 25)"
      ]
     },
     "execution_count": 6,
     "metadata": {},
     "output_type": "execute_result"
    }
   ],
   "source": [
    "df.shape"
   ]
  },
  {
   "cell_type": "code",
   "execution_count": 7,
   "metadata": {},
   "outputs": [
    {
     "name": "stdout",
     "output_type": "stream",
     "text": [
      "\u001b[1mMissing value percentage for mexico:\u001b[0m\n"
     ]
    },
    {
     "data": {
      "text/plain": [
       "age                                           0.00\n",
       "age_band                                      0.00\n",
       "background_diseases                          62.61\n",
       "background_diseases_binary                   60.84\n",
       "city                                         99.55\n",
       "confirmed_date                                0.05\n",
       "country                                       0.00\n",
       "date_onset_symptoms                           0.01\n",
       "deceased_date                                96.19\n",
       "infected_by                                 100.00\n",
       "infection_place                              99.43\n",
       "region                                       98.23\n",
       "released_date                               100.00\n",
       "return_date                                  99.44\n",
       "severity_illness                             94.63\n",
       "sex                                           0.02\n",
       "smoking                                       2.18\n",
       "symptoms                                    100.00\n",
       "treatment                                     1.77\n",
       "id                                            0.00\n",
       "return_date_until_date_onset_symptoms        99.44\n",
       "date_onset_symptoms_until_confirmed_date      0.06\n",
       "confirmed_date_until_released_date          100.00\n",
       "confirmed_date_until_deceased_date           96.19\n",
       "severity_illness_infectious_person          100.00\n",
       "dtype: float64"
      ]
     },
     "execution_count": 7,
     "metadata": {},
     "output_type": "execute_result"
    }
   ],
   "source": [
    "print('\\033[1m'+'Missing value percentage for mexico:'+'\\033[0m')\n",
    "percent_missing=df.isnull().sum() * 100 / len(df)\n",
    "round(percent_missing, 2)"
   ]
  },
  {
   "cell_type": "markdown",
   "metadata": {},
   "source": [
    "## 1.3 Among the area features city, region and country, only country will be kept. Since there are too many missing values, and we guess that is due to the origin of the data. We found that mexico has the fewest missing values among all countries. So only data from mexico will be used."
   ]
  },
  {
   "cell_type": "markdown",
   "metadata": {},
   "source": [
    "## 1.4 There are only two catelogues deceased and critical for severity_illness in the mexico dataset, so the miss values might be catelogues not in these two. In the following, we will define death+critical as high_risk and the missing values as low_risk."
   ]
  },
  {
   "cell_type": "code",
   "execution_count": 8,
   "metadata": {},
   "outputs": [
    {
     "data": {
      "text/plain": [
       "NaN         112914\n",
       "deceased      3849\n",
       "critical      2560\n",
       "Name: severity_illness, dtype: int64"
      ]
     },
     "execution_count": 8,
     "metadata": {},
     "output_type": "execute_result"
    }
   ],
   "source": [
    "df.severity_illness.value_counts(dropna=False)"
   ]
  },
  {
   "cell_type": "code",
   "execution_count": 9,
   "metadata": {},
   "outputs": [
    {
     "data": {
      "text/plain": [
       "array([nan, 'deceased', 'critical'], dtype=object)"
      ]
     },
     "execution_count": 9,
     "metadata": {},
     "output_type": "execute_result"
    }
   ],
   "source": [
    "df.severity_illness.unique()"
   ]
  },
  {
   "cell_type": "code",
   "execution_count": 10,
   "metadata": {},
   "outputs": [
    {
     "data": {
      "text/plain": [
       "4545"
      ]
     },
     "execution_count": 10,
     "metadata": {},
     "output_type": "execute_result"
    }
   ],
   "source": [
    "len(df[df['deceased_date'].notnull()])"
   ]
  },
  {
   "cell_type": "code",
   "execution_count": 11,
   "metadata": {},
   "outputs": [
    {
     "data": {
      "text/plain": [
       "4545"
      ]
     },
     "execution_count": 11,
     "metadata": {},
     "output_type": "execute_result"
    }
   ],
   "source": [
    "len(df[df['deceased_date'].notnull() & (df['severity_illness'].notnull())])"
   ]
  },
  {
   "cell_type": "code",
   "execution_count": 12,
   "metadata": {},
   "outputs": [
    {
     "data": {
      "text/plain": [
       "696"
      ]
     },
     "execution_count": 12,
     "metadata": {},
     "output_type": "execute_result"
    }
   ],
   "source": [
    "len(df[df['deceased_date'].notnull() & (df['severity_illness'] != 'deceased')])"
   ]
  },
  {
   "cell_type": "code",
   "execution_count": 13,
   "metadata": {},
   "outputs": [
    {
     "data": {
      "text/plain": [
       "3849"
      ]
     },
     "execution_count": 13,
     "metadata": {},
     "output_type": "execute_result"
    }
   ],
   "source": [
    "len(df[df['deceased_date'].notnull() & (df['severity_illness'] != 'critical')])"
   ]
  },
  {
   "cell_type": "code",
   "execution_count": 14,
   "metadata": {},
   "outputs": [],
   "source": [
    "\"\"\"\n",
    "Generate transformer to generate feature high_risk - 1 ('critical' and 'deceased') and 0 (else)\n",
    "\"\"\"\n",
    "\n",
    "df['severity_illness'] = df.severity_illness.apply(lambda x: 1 if str(x)!='nan' else 0)"
   ]
  },
  {
   "cell_type": "code",
   "execution_count": 15,
   "metadata": {},
   "outputs": [],
   "source": [
    "df = df.rename(columns={'severity_illness': 'high_risk'})"
   ]
  },
  {
   "cell_type": "code",
   "execution_count": 16,
   "metadata": {},
   "outputs": [
    {
     "data": {
      "text/plain": [
       "0    112914\n",
       "1      6409\n",
       "Name: high_risk, dtype: int64"
      ]
     },
     "execution_count": 16,
     "metadata": {},
     "output_type": "execute_result"
    }
   ],
   "source": [
    "df.high_risk.value_counts(dropna=False)"
   ]
  },
  {
   "cell_type": "code",
   "execution_count": 17,
   "metadata": {},
   "outputs": [
    {
     "name": "stdout",
     "output_type": "stream",
     "text": [
      "<class 'pandas.core.frame.DataFrame'>\n",
      "Int64Index: 119323 entries, 35393 to 331327\n",
      "Data columns (total 25 columns):\n",
      "age                                         119321 non-null float64\n",
      "age_band                                    119321 non-null float64\n",
      "background_diseases                         44615 non-null object\n",
      "background_diseases_binary                  46727 non-null float64\n",
      "city                                        542 non-null object\n",
      "confirmed_date                              119263 non-null object\n",
      "country                                     119323 non-null object\n",
      "date_onset_symptoms                         119317 non-null object\n",
      "deceased_date                               4545 non-null object\n",
      "infected_by                                 0 non-null object\n",
      "infection_place                             678 non-null object\n",
      "region                                      2108 non-null object\n",
      "released_date                               0 non-null object\n",
      "return_date                                 668 non-null object\n",
      "high_risk                                   119323 non-null int64\n",
      "sex                                         119299 non-null object\n",
      "smoking                                     116726 non-null float64\n",
      "symptoms                                    0 non-null object\n",
      "treatment                                   117211 non-null object\n",
      "id                                          119323 non-null int64\n",
      "return_date_until_date_onset_symptoms       666 non-null float64\n",
      "date_onset_symptoms_until_confirmed_date    119257 non-null float64\n",
      "confirmed_date_until_released_date          0 non-null float64\n",
      "confirmed_date_until_deceased_date          4545 non-null float64\n",
      "severity_illness_infectious_person          0 non-null object\n",
      "dtypes: float64(8), int64(2), object(15)\n",
      "memory usage: 23.7+ MB\n"
     ]
    }
   ],
   "source": [
    "df.info()"
   ]
  },
  {
   "cell_type": "markdown",
   "metadata": {},
   "source": [
    "# 1.5 All colomns, except severity_illness, with >90% missing values will be dropped. The colomn treatment is not informatic, and will be dropped."
   ]
  },
  {
   "cell_type": "code",
   "execution_count": 18,
   "metadata": {},
   "outputs": [
    {
     "data": {
      "text/plain": [
       "clinic          86437\n",
       "hospitalized    30774\n",
       "NaN              2112\n",
       "Name: treatment, dtype: int64"
      ]
     },
     "execution_count": 18,
     "metadata": {},
     "output_type": "execute_result"
    }
   ],
   "source": [
    "df.treatment.value_counts(dropna=False)"
   ]
  },
  {
   "cell_type": "code",
   "execution_count": 19,
   "metadata": {},
   "outputs": [
    {
     "name": "stdout",
     "output_type": "stream",
     "text": [
      "<class 'pandas.core.frame.DataFrame'>\n",
      "RangeIndex: 119323 entries, 0 to 119322\n",
      "Data columns (total 11 columns):\n",
      "confirmed_date                119263 non-null object\n",
      "date_onset_symptoms           119317 non-null object\n",
      "high_risk                     119323 non-null int64\n",
      "age                           119321 non-null float64\n",
      "age_band                      119321 non-null float64\n",
      "sex                           119299 non-null object\n",
      "country                       119323 non-null object\n",
      "background_diseases           44615 non-null object\n",
      "background_diseases_binary    46727 non-null float64\n",
      "smoking                       116726 non-null float64\n",
      "days_apart                    119257 non-null float64\n",
      "dtypes: float64(5), int64(1), object(5)\n",
      "memory usage: 10.0+ MB\n"
     ]
    }
   ],
   "source": [
    "df = df[['confirmed_date', 'date_onset_symptoms', 'high_risk', 'age', 'age_band', 'sex', 'country', \n",
    "         'background_diseases', 'background_diseases_binary', 'smoking',  \n",
    "         'date_onset_symptoms_until_confirmed_date']].reset_index(drop=True)\n",
    "df = df.rename(columns={'date_onset_symptoms_until_confirmed_date': 'days_apart'})\n",
    "df.info()"
   ]
  },
  {
   "cell_type": "markdown",
   "metadata": {},
   "source": [
    "# 1.6 Column days_apart is confirmed_date subtract date_onset_symptoms, so only confirmed_date will be kept. Almost all non-null background_diseases_binary records are positive, so the null values should be positive and will be fixed before split the train-test"
   ]
  },
  {
   "cell_type": "code",
   "execution_count": 20,
   "metadata": {},
   "outputs": [],
   "source": [
    "df = df.drop(['date_onset_symptoms'],axis = 1).reset_index(drop=True)\n",
    "df['background_diseases_binary']=df.background_diseases_binary.apply(\n",
    "    lambda x: 0.0 if str(x)=='nan' else x).reset_index(drop=True)"
   ]
  },
  {
   "cell_type": "code",
   "execution_count": 21,
   "metadata": {},
   "outputs": [
    {
     "name": "stdout",
     "output_type": "stream",
     "text": [
      "<class 'pandas.core.frame.DataFrame'>\n",
      "RangeIndex: 119323 entries, 0 to 119322\n",
      "Data columns (total 10 columns):\n",
      "confirmed_date                119263 non-null object\n",
      "high_risk                     119323 non-null int64\n",
      "age                           119321 non-null float64\n",
      "age_band                      119321 non-null float64\n",
      "sex                           119299 non-null object\n",
      "country                       119323 non-null object\n",
      "background_diseases           44615 non-null object\n",
      "background_diseases_binary    119323 non-null float64\n",
      "smoking                       116726 non-null float64\n",
      "days_apart                    119257 non-null float64\n",
      "dtypes: float64(5), int64(1), object(4)\n",
      "memory usage: 9.1+ MB\n"
     ]
    }
   ],
   "source": [
    "df.info()"
   ]
  },
  {
   "cell_type": "markdown",
   "metadata": {},
   "source": [
    "# 1.7 The distributions of age and age_band are similar, so only age will be kept."
   ]
  },
  {
   "cell_type": "code",
   "execution_count": 22,
   "metadata": {},
   "outputs": [
    {
     "data": {
      "image/png": "[encoded data removed]",
      "text/plain": [
       "<Figure size 864x216 with 2 Axes>"
      ]
     },
     "metadata": {
      "needs_background": "light"
     },
     "output_type": "display_data"
    }
   ],
   "source": [
    "fig, (ax1, ax2) = plt.subplots(1, 2, figsize=(12,3))\n",
    "ax1.hist(df.age)\n",
    "ax1.set_title('age distribution')\n",
    "ax2.hist(df.age_band)\n",
    "ax2.set_title('age_band distribution')\n",
    "plt.show()"
   ]
  },
  {
   "cell_type": "code",
   "execution_count": 23,
   "metadata": {},
   "outputs": [
    {
     "name": "stdout",
     "output_type": "stream",
     "text": [
      "<class 'pandas.core.frame.DataFrame'>\n",
      "RangeIndex: 119323 entries, 0 to 119322\n",
      "Data columns (total 9 columns):\n",
      "confirmed_date                119263 non-null object\n",
      "high_risk                     119323 non-null int64\n",
      "age                           119321 non-null float64\n",
      "sex                           119299 non-null object\n",
      "country                       119323 non-null object\n",
      "background_diseases           44615 non-null object\n",
      "background_diseases_binary    119323 non-null float64\n",
      "smoking                       116726 non-null float64\n",
      "days_apart                    119257 non-null float64\n",
      "dtypes: float64(4), int64(1), object(4)\n",
      "memory usage: 8.2+ MB\n"
     ]
    }
   ],
   "source": [
    "df = df.drop(['age_band'],axis = 1).reset_index(drop=True)\n",
    "df.info()"
   ]
  },
  {
   "cell_type": "code",
   "execution_count": 24,
   "metadata": {},
   "outputs": [
    {
     "data": {
      "text/plain": [
       "(119323, 9)"
      ]
     },
     "execution_count": 24,
     "metadata": {},
     "output_type": "execute_result"
    }
   ],
   "source": [
    "from sklearn.feature_extraction.text import CountVectorizer\n",
    "\n",
    "back_dis = df['background_diseases'].fillna('unknown_disease')\n",
    "vectorizer = CountVectorizer()\n",
    "vectorizer.fit(back_dis)\n",
    "back_dis= vectorizer.transform(back_dis)\n",
    "df_back_dis= pd.DataFrame(back_dis.todense())\n",
    "df_back_dis.columns = vectorizer.get_feature_names()\n",
    "df_back_dis.head()\n",
    "\n",
    "df_back_dis.shape"
   ]
  },
  {
   "cell_type": "code",
   "execution_count": 25,
   "metadata": {},
   "outputs": [],
   "source": [
    "df = pd.concat([df.reset_index(drop=True),\n",
    "                 df_back_dis.reset_index(drop=True)], axis=1).drop(['background_diseases'],axis = 1)"
   ]
  },
  {
   "cell_type": "markdown",
   "metadata": {},
   "source": [
    "# 2. Modeling: Model selection, feature elimination, validation, hyperparameter tuning"
   ]
  },
  {
   "cell_type": "markdown",
   "metadata": {},
   "source": [
    "# 2.1 The data will be split into two groups randomly: one for model training and the other for model testing."
   ]
  },
  {
   "cell_type": "code",
   "execution_count": 26,
   "metadata": {},
   "outputs": [],
   "source": [
    "df = df.drop(['confirmed_date', 'country'],axis = 1).reset_index(drop=True)\n",
    "df_shuffled = df.sample(n=len(df), random_state=30)\n",
    "\n",
    "train_raw = df_shuffled.iloc[: (len(df) - len(df)//4), :].reset_index(drop=True)\n",
    "test_raw = df_shuffled.iloc[(len(df) - len(df)//4) :, :].reset_index(drop=True)"
   ]
  },
  {
   "cell_type": "markdown",
   "metadata": {},
   "source": [
    "# 2.2 Transform the missing values."
   ]
  },
  {
   "cell_type": "code",
   "execution_count": 27,
   "metadata": {},
   "outputs": [],
   "source": [
    "train_raw['age'] = train_raw.age.apply(lambda x: train_raw.age.mean() if str(x)=='nan' else x).reset_index(drop=True)\n",
    "test_raw['age'] = test_raw.age.map(lambda x: train_raw.age.mean() if str(x)=='nan' else x).reset_index(drop=True)\n",
    "\n",
    "train_raw['sex']=train_raw.sex.map({'male': 0,'female': 1}).reset_index(drop=True)\n",
    "test_raw['sex']=test_raw.sex.map({'male': 0,'female': 1}).reset_index(drop=True)\n",
    "\n",
    "train_raw['smoking']=train_raw.smoking.apply(lambda x: 0.0 if str(x)=='nan' else x).reset_index(drop=True)\n",
    "test_raw['smoking']=test_raw.smoking.apply(lambda x: 0.0 if str(x)=='nan' else x).reset_index(drop=True)\n",
    "\n",
    "train_raw['days_apart'] = train_raw.days_apart.map(lambda x: train_raw.days_apart.mean() if str(x)=='nan' else x\n",
    "                                    ).reset_index(drop=True)\n",
    "test_raw['days_apart'] = test_raw.days_apart.map(lambda x: train_raw.days_apart.mean() if str(x)=='nan' else x\n",
    "                                  ).reset_index(drop=True)"
   ]
  },
  {
   "cell_type": "code",
   "execution_count": 28,
   "metadata": {},
   "outputs": [
    {
     "name": "stdout",
     "output_type": "stream",
     "text": [
      "<class 'pandas.core.frame.DataFrame'>\n",
      "RangeIndex: 89473 entries, 0 to 89472\n",
      "Data columns (total 15 columns):\n",
      "high_risk                     89473 non-null int64\n",
      "age                           89473 non-null float64\n",
      "sex                           89473 non-null float64\n",
      "background_diseases_binary    89473 non-null float64\n",
      "smoking                       89473 non-null float64\n",
      "days_apart                    89473 non-null float64\n",
      "asthma                        89473 non-null int64\n",
      "cardiovascular                89473 non-null int64\n",
      "diabetes                      89473 non-null int64\n",
      "failure                       89473 non-null int64\n",
      "hypertension                  89473 non-null int64\n",
      "immunosuppression             89473 non-null int64\n",
      "kidney                        89473 non-null int64\n",
      "obesity                       89473 non-null int64\n",
      "unknown_disease               89473 non-null int64\n",
      "dtypes: float64(5), int64(10)\n",
      "memory usage: 10.2 MB\n"
     ]
    }
   ],
   "source": [
    "train_raw = train_raw[train_raw.sex.notnull()].reset_index(drop=True)\n",
    "train_raw.info()"
   ]
  },
  {
   "cell_type": "code",
   "execution_count": 29,
   "metadata": {},
   "outputs": [
    {
     "name": "stdout",
     "output_type": "stream",
     "text": [
      "<class 'pandas.core.frame.DataFrame'>\n",
      "RangeIndex: 29826 entries, 0 to 29825\n",
      "Data columns (total 15 columns):\n",
      "high_risk                     29826 non-null int64\n",
      "age                           29826 non-null float64\n",
      "sex                           29826 non-null float64\n",
      "background_diseases_binary    29826 non-null float64\n",
      "smoking                       29826 non-null float64\n",
      "days_apart                    29826 non-null float64\n",
      "asthma                        29826 non-null int64\n",
      "cardiovascular                29826 non-null int64\n",
      "diabetes                      29826 non-null int64\n",
      "failure                       29826 non-null int64\n",
      "hypertension                  29826 non-null int64\n",
      "immunosuppression             29826 non-null int64\n",
      "kidney                        29826 non-null int64\n",
      "obesity                       29826 non-null int64\n",
      "unknown_disease               29826 non-null int64\n",
      "dtypes: float64(5), int64(10)\n",
      "memory usage: 3.4 MB\n"
     ]
    }
   ],
   "source": [
    "test_raw = test_raw[test_raw.sex.notnull()].reset_index(drop=True)\n",
    "test_raw.info()"
   ]
  },
  {
   "cell_type": "markdown",
   "metadata": {},
   "source": [
    "# 2.3 Define target and features"
   ]
  },
  {
   "cell_type": "code",
   "execution_count": 30,
   "metadata": {},
   "outputs": [],
   "source": [
    "features = list(train_raw.columns)\n",
    "target = 'high_risk'\n",
    "features.remove(target)\n",
    "\n",
    "X_train = train_raw[features]\n",
    "y_train = train_raw[target]\n",
    "X_test = test_raw[features]\n",
    "y_test = test_raw[target]"
   ]
  },
  {
   "cell_type": "markdown",
   "metadata": {},
   "source": [
    "# 2.4 The two classes in the target are very imbalanced, so resampling is needed."
   ]
  },
  {
   "cell_type": "code",
   "execution_count": 31,
   "metadata": {},
   "outputs": [
    {
     "data": {
      "text/plain": [
       "0    0.946364\n",
       "1    0.053636\n",
       "Name: high_risk, dtype: float64"
      ]
     },
     "execution_count": 31,
     "metadata": {},
     "output_type": "execute_result"
    }
   ],
   "source": [
    "train_raw.high_risk.value_counts(normalize=True)"
   ]
  },
  {
   "cell_type": "code",
   "execution_count": 32,
   "metadata": {},
   "outputs": [
    {
     "name": "stderr",
     "output_type": "stream",
     "text": [
      "Using TensorFlow backend.\n"
     ]
    }
   ],
   "source": [
    "import imblearn\n",
    "from imblearn.over_sampling import SMOTE\n",
    "from imblearn.under_sampling import RandomUnderSampler\n",
    "from imblearn.under_sampling import NearMiss\n",
    "import numpy as np\n",
    "\n",
    "over = SMOTE(random_state = 2, sampling_strategy=0.1, k_neighbors=4) \n",
    "X_train_res1, y_train_res1 = over.fit_sample(X_train, y_train)\n",
    "\n",
    "under = RandomUnderSampler(sampling_strategy=0.5)\n",
    "X_train_res, y_train_res = under.fit_sample(X_train_res1, y_train_res1)"
   ]
  },
  {
   "cell_type": "markdown",
   "metadata": {},
   "source": [
    "# 2.5 Establish models."
   ]
  },
  {
   "cell_type": "markdown",
   "metadata": {},
   "source": [
    "## 2.5.1 Logistic regression classifier"
   ]
  },
  {
   "cell_type": "code",
   "execution_count": 33,
   "metadata": {},
   "outputs": [],
   "source": [
    "from sklearn.pipeline import Pipeline\n",
    "from sklearn.linear_model import LogisticRegression\n",
    "from sklearn.preprocessing import MinMaxScaler\n",
    "import numpy as np\n",
    "from sklearn.pipeline import Pipeline\n",
    "\n",
    "steps = [('rescale', MinMaxScaler()),\n",
    "         ('logr', LogisticRegression())]\n",
    "model_logr = Pipeline(steps)\n",
    "model_logr = model_logr.fit(X_train_res, y_train_res)\n",
    "\n",
    "y_train_proba_logr = model_logr.predict_proba(X_train_res)\n",
    "y_test_proba_logr = model_logr.predict_proba(X_test)"
   ]
  },
  {
   "cell_type": "markdown",
   "metadata": {},
   "source": [
    "### 2.5.2 Naive Bayes Classifier"
   ]
  },
  {
   "cell_type": "code",
   "execution_count": 34,
   "metadata": {},
   "outputs": [],
   "source": [
    "from sklearn.naive_bayes import GaussianNB\n",
    "\n",
    "model_nb= GaussianNB()\n",
    "model_nb.fit(X_train_res, y_train_res)\n",
    "\n",
    "y_train_proba_nb = model_nb.predict_proba(X_train_res)\n",
    "y_test_proba_nb = model_nb.predict_proba(X_test)"
   ]
  },
  {
   "cell_type": "markdown",
   "metadata": {},
   "source": [
    "#### 2.5.3 Nearest Neighbor Classifier"
   ]
  },
  {
   "cell_type": "code",
   "execution_count": 35,
   "metadata": {},
   "outputs": [],
   "source": [
    "from sklearn.neighbors import KNeighborsClassifier\n",
    "\n",
    "model_knc= KNeighborsClassifier()\n",
    "model_knc.fit(X_train_res, y_train_res)\n",
    "\n",
    "y_train_proba_knc = model_knc.predict_proba(X_train_res)\n",
    "y_test_proba_knc = model_knc.predict_proba(X_test)"
   ]
  },
  {
   "cell_type": "markdown",
   "metadata": {},
   "source": [
    "### 2.5.4 Decision Tree Classifier"
   ]
  },
  {
   "cell_type": "code",
   "execution_count": 36,
   "metadata": {},
   "outputs": [],
   "source": [
    "from sklearn.tree import DecisionTreeClassifier\n",
    "\n",
    "model_dt = DecisionTreeClassifier()\n",
    "model_dt.fit(X_train_res, y_train_res)\n",
    "\n",
    "y_train_proba_dt = model_dt.predict_proba(X_train_res)\n",
    "y_test_proba_dt = model_dt.predict_proba(X_test)"
   ]
  },
  {
   "cell_type": "markdown",
   "metadata": {},
   "source": [
    "### 2.5.5 Random Forest Classifier"
   ]
  },
  {
   "cell_type": "code",
   "execution_count": 37,
   "metadata": {},
   "outputs": [],
   "source": [
    "from sklearn.ensemble import RandomForestClassifier\n",
    "\n",
    "model_rf = RandomForestClassifier()\n",
    "model_rf.fit(X_train_res, y_train_res)\n",
    "\n",
    "y_train_proba_rf = model_rf.predict_proba(X_train_res)\n",
    "y_test_proba_rf = model_rf.predict_proba(X_test)"
   ]
  },
  {
   "cell_type": "markdown",
   "metadata": {},
   "source": [
    "### 2.5.6 Gradient Boosting Classifier"
   ]
  },
  {
   "cell_type": "code",
   "execution_count": 38,
   "metadata": {},
   "outputs": [],
   "source": [
    "from sklearn.ensemble import GradientBoostingClassifier\n",
    "\n",
    "model_gb = GradientBoostingClassifier()\n",
    "model_gb.fit(X_train_res, y_train_res)\n",
    "\n",
    "y_train_proba_gb = model_gb.predict_proba(X_train_res)\n",
    "y_test_proba_gb = model_gb.predict_proba(X_test)"
   ]
  },
  {
   "cell_type": "markdown",
   "metadata": {},
   "source": [
    "### 2.5.7 XGBoost Classifier"
   ]
  },
  {
   "cell_type": "code",
   "execution_count": 39,
   "metadata": {},
   "outputs": [],
   "source": [
    "import xgboost as xgb\n",
    "from xgboost import XGBClassifier\n",
    "\n",
    "model_xgb = XGBClassifier()\n",
    "model_xgb.fit(X_train_res, y_train_res)\n",
    "\n",
    "y_train_proba_xgb = model_xgb.predict_proba(X_train_res)\n",
    "y_test_proba_xgb = model_xgb.predict_proba(X_test)"
   ]
  },
  {
   "cell_type": "markdown",
   "metadata": {},
   "source": [
    "### 2.6 Compare ROC-AUC scores from different models."
   ]
  },
  {
   "cell_type": "code",
   "execution_count": 40,
   "metadata": {},
   "outputs": [
    {
     "name": "stdout",
     "output_type": "stream",
     "text": [
      "model_logr roc_auc| Train: 0.7774| Test:  0.7769\n",
      "model_nb roc_auc| Train: 0.7499| Test:  0.7574\n",
      "model_knc roc_auc| Train: 0.8967| Test:  0.7193\n",
      "model_dt roc_auc| Train: 0.9782| Test:  0.6186\n",
      "model_rf roc_auc| Train: 0.9708| Test:  0.7359\n",
      "model_gb roc_auc| Train: 0.8496| Test:  0.8073\n",
      "model_xgb roc_auc| Train: 0.8481| Test:  0.8071\n"
     ]
    }
   ],
   "source": [
    "from sklearn.metrics import roc_auc_score\n",
    "\n",
    "print(f\"model_logr roc_auc| Train: {roc_auc_score(y_train_res, y_train_proba_logr[:, 1]):.4f}\"\n",
    "      f\"| Test:  {roc_auc_score(y_test, y_test_proba_logr[:, 1]):.4f}\")\n",
    "\n",
    "print(f\"model_nb roc_auc| Train: {roc_auc_score(y_train_res, y_train_proba_nb[:, 1]):.4f}\"\n",
    "      f\"| Test:  {roc_auc_score(y_test, y_test_proba_nb[:, 1]):.4f}\")\n",
    "\n",
    "print(f\"model_knc roc_auc| Train: {roc_auc_score(y_train_res, y_train_proba_knc[:, 1]):.4f}\"\n",
    "      f\"| Test:  {roc_auc_score(y_test, y_test_proba_knc[:, 1]):.4f}\")\n",
    "\n",
    "print(f\"model_dt roc_auc| Train: {roc_auc_score(y_train_res, y_train_proba_dt[:, 1]):.4f}\"\n",
    "      f\"| Test:  {roc_auc_score(y_test, y_test_proba_dt[:, 1]):.4f}\")\n",
    "\n",
    "print(f\"model_rf roc_auc| Train: {roc_auc_score(y_train_res, y_train_proba_rf[:, 1]):.4f}\"\n",
    "      f\"| Test:  {roc_auc_score(y_test, y_test_proba_rf[:, 1]):.4f}\")\n",
    "\n",
    "print(f\"model_gb roc_auc| Train: {roc_auc_score(y_train_res, y_train_proba_gb[:, 1]):.4f}\"\n",
    "      f\"| Test:  {roc_auc_score(y_test, y_test_proba_gb[:, 1]):.4f}\")\n",
    "\n",
    "print(f\"model_xgb roc_auc| Train: {roc_auc_score(y_train_res, y_train_proba_xgb[:, 1]):.4f}\"\n",
    "      f\"| Test:  {roc_auc_score(y_test, y_test_proba_xgb[:, 1]):.4f}\")"
   ]
  },
  {
   "cell_type": "markdown",
   "metadata": {},
   "source": [
    "### 2.7 XGBoost model seems to be the best, try to tune the hyperparameters for it."
   ]
  },
  {
   "cell_type": "code",
   "execution_count": 41,
   "metadata": {},
   "outputs": [
    {
     "data": {
      "text/plain": [
       "RandomizedSearchCV(cv=None, error_score=nan,\n",
       "                   estimator=XGBClassifier(base_score=0.5, booster='gbtree',\n",
       "                                           colsample_bylevel=1,\n",
       "                                           colsample_bynode=1,\n",
       "                                           colsample_bytree=1, gamma=0,\n",
       "                                           learning_rate=0.1, max_delta_step=0,\n",
       "                                           max_depth=3, min_child_weight=1,\n",
       "                                           missing=None, n_estimators=100,\n",
       "                                           n_jobs=1, nthread=None,\n",
       "                                           objective='binary:logistic',\n",
       "                                           random_state=0, reg_alpha=0,\n",
       "                                           reg_lambda=1...\n",
       "                   iid='deprecated', n_iter=10, n_jobs=None,\n",
       "                   param_distributions={'colsample_bytree': [0.6, 0.8, 1.0],\n",
       "                                        'gamma': [0.5, 1, 1.5, 2, 5],\n",
       "                                        'max_depth': [3, 4, 5],\n",
       "                                        'min_child_weight': [1, 5, 10],\n",
       "                                        'n_estimators': [10, 50, 100, 200],\n",
       "                                        'reg_lambda': [0.01, 1, 100],\n",
       "                                        'subsample': [0.6, 0.8, 1.0]},\n",
       "                   pre_dispatch='2*n_jobs', random_state=None, refit=True,\n",
       "                   return_train_score=False, scoring='roc_auc', verbose=0)"
      ]
     },
     "execution_count": 41,
     "metadata": {},
     "output_type": "execute_result"
    }
   ],
   "source": [
    "from sklearn.model_selection import RandomizedSearchCV, GridSearchCV\n",
    "from sklearn.metrics import roc_auc_score\n",
    "from sklearn.model_selection import StratifiedKFold\n",
    "from xgboost import XGBClassifier\n",
    "\n",
    "params = {\n",
    "        'min_child_weight': [1, 5, 10],\n",
    "        'gamma': [0.5, 1, 1.5, 2, 5],\n",
    "        'subsample': [0.6, 0.8, 1.0],\n",
    "        'colsample_bytree': [0.6, 0.8, 1.0],\n",
    "        'n_estimators': [10, 50, 100, 200],\n",
    "        'reg_lambda': [0.01, 1, 100],\n",
    "        'max_depth': [3, 4, 5]\n",
    "        }\n",
    "\n",
    "random_search = RandomizedSearchCV(model_xgb, param_distributions=params, scoring='roc_auc')\n",
    "\n",
    "random_search.fit(X_train_res, y_train_res)"
   ]
  },
  {
   "cell_type": "code",
   "execution_count": 42,
   "metadata": {},
   "outputs": [],
   "source": [
    "from IPython.display import Markdown, display\n",
    "def printmd(string):\n",
    "    display(Markdown(string))"
   ]
  },
  {
   "cell_type": "code",
   "execution_count": 43,
   "metadata": {},
   "outputs": [
    {
     "data": {
      "text/markdown": [
       "**Best hyperparameters:**"
      ],
      "text/plain": [
       "<IPython.core.display.Markdown object>"
      ]
     },
     "metadata": {},
     "output_type": "display_data"
    },
    {
     "name": "stdout",
     "output_type": "stream",
     "text": [
      "{'subsample': 1.0, 'reg_lambda': 0.01, 'n_estimators': 200, 'min_child_weight': 5, 'max_depth': 4, 'gamma': 1, 'colsample_bytree': 0.6}\n"
     ]
    }
   ],
   "source": [
    "printmd('**Best hyperparameters:**')\n",
    "print(random_search.best_params_)"
   ]
  },
  {
   "cell_type": "code",
   "execution_count": 44,
   "metadata": {},
   "outputs": [],
   "source": [
    "import xgboost as xgb\n",
    "from xgboost import XGBClassifier\n",
    "\n",
    "model_xgb = XGBClassifier(subsample=1.0, reg_lambda=1, n_Estimators=100, colsample_bytree=1.0, gamma=2, \n",
    "                          max_depth=4, min_child_weight=1)\n",
    "model_xgb.fit(X_train_res, y_train_res)\n",
    "\n",
    "y_train_proba_xgb = model_xgb.predict_proba(X_train_res)\n",
    "y_test_proba_xgb = model_xgb.predict_proba(X_test)"
   ]
  },
  {
   "cell_type": "code",
   "execution_count": 45,
   "metadata": {},
   "outputs": [
    {
     "name": "stdout",
     "output_type": "stream",
     "text": [
      "model_xgb roc_auc| Train: 0.8567| Test:  0.8060\n"
     ]
    }
   ],
   "source": [
    "print(f\"model_xgb roc_auc| Train: {roc_auc_score(y_train_res, y_train_proba_xgb[:, 1]):.4f}\"\n",
    "      f\"| Test:  {roc_auc_score(y_test, y_test_proba_xgb[:, 1]):.4f}\")"
   ]
  },
  {
   "cell_type": "code",
   "execution_count": 46,
   "metadata": {},
   "outputs": [
    {
     "data": {
      "text/markdown": [
       "**model_xgb Train Classification Report:**"
      ],
      "text/plain": [
       "<IPython.core.display.Markdown object>"
      ]
     },
     "metadata": {},
     "output_type": "display_data"
    },
    {
     "name": "stdout",
     "output_type": "stream",
     "text": [
      "              precision    recall  f1-score   support\n",
      "\n",
      "           0       0.82      0.86      0.84     16934\n",
      "           1       0.69      0.63      0.66      8467\n",
      "\n",
      "    accuracy                           0.78     25401\n",
      "   macro avg       0.76      0.75      0.75     25401\n",
      "weighted avg       0.78      0.78      0.78     25401\n",
      "\n"
     ]
    },
    {
     "data": {
      "text/markdown": [
       "**model_xgb Test Classification Report:**"
      ],
      "text/plain": [
       "<IPython.core.display.Markdown object>"
      ]
     },
     "metadata": {},
     "output_type": "display_data"
    },
    {
     "name": "stdout",
     "output_type": "stream",
     "text": [
      "              precision    recall  f1-score   support\n",
      "\n",
      "           0       0.97      0.86      0.91     28216\n",
      "           1       0.18      0.54      0.27      1610\n",
      "\n",
      "    accuracy                           0.84     29826\n",
      "   macro avg       0.57      0.70      0.59     29826\n",
      "weighted avg       0.93      0.84      0.87     29826\n",
      "\n"
     ]
    }
   ],
   "source": [
    "from sklearn.metrics import classification_report\n",
    "y_train_pred_xgb = model_xgb.predict(X_train_res)\n",
    "y_test_pred_xgb = model_xgb.predict(X_test)\n",
    "\n",
    "printmd('**model_xgb Train Classification Report:**')\n",
    "print(classification_report(y_train_res, y_train_pred_xgb))\n",
    "\n",
    "printmd('**model_xgb Test Classification Report:**')\n",
    "print(classification_report(y_test, y_test_pred_xgb))"
   ]
  },
  {
   "cell_type": "code",
   "execution_count": 47,
   "metadata": {},
   "outputs": [
    {
     "data": {
      "text/plain": [
       "array([[24148,  4068],\n",
       "       [  739,   871]])"
      ]
     },
     "execution_count": 47,
     "metadata": {},
     "output_type": "execute_result"
    }
   ],
   "source": [
    "from sklearn.metrics import confusion_matrix\n",
    "cm = confusion_matrix(y_test, y_test_pred_xgb)\n",
    "cm"
   ]
  },
  {
   "cell_type": "markdown",
   "metadata": {},
   "source": [
    "### 2.8 Feature importance"
   ]
  },
  {
   "cell_type": "code",
   "execution_count": 48,
   "metadata": {},
   "outputs": [
    {
     "data": {
      "text/plain": [
       "array([0.18659906, 0.16919635, 0.19688436, 0.1336109 , 0.05826733,\n",
       "       0.07820808, 0.01531216, 0.07602688, 0.02803234, 0.01559616,\n",
       "       0.01845843, 0.        , 0.02380795, 0.        ], dtype=float32)"
      ]
     },
     "execution_count": 48,
     "metadata": {},
     "output_type": "execute_result"
    }
   ],
   "source": [
    "importances_xgb = model_xgb.feature_importances_\n",
    "importances_xgb"
   ]
  },
  {
   "cell_type": "code",
   "execution_count": 49,
   "metadata": {},
   "outputs": [
    {
     "data": {
      "text/plain": [
       "[('kidney', 0.0),\n",
       " ('unknown_disease', 0.0),\n",
       " ('cardiovascular', 0.015312162),\n",
       " ('hypertension', 0.015596163),\n",
       " ('immunosuppression', 0.018458433),\n",
       " ('obesity', 0.023807952),\n",
       " ('failure', 0.028032342),\n",
       " ('days_apart', 0.058267325),\n",
       " ('diabetes', 0.07602688),\n",
       " ('asthma', 0.07820808),\n",
       " ('smoking', 0.1336109),\n",
       " ('sex', 0.16919635),\n",
       " ('age', 0.18659906),\n",
       " ('background_diseases_binary', 0.19688436)]"
      ]
     },
     "execution_count": 49,
     "metadata": {},
     "output_type": "execute_result"
    },
    {
     "data": {
      "image/png": "[encoded data removed]",
      "text/plain": [
       "<Figure size 432x288 with 1 Axes>"
      ]
     },
     "metadata": {
      "needs_background": "light"
     },
     "output_type": "display_data"
    }
   ],
   "source": [
    "res = sorted(zip(features, importances_xgb), key=lambda x: x[1])\n",
    "d = dict(res)\n",
    "\n",
    "plt.barh(range(len(importances_xgb)), d.values())\n",
    "plt.yticks(range(len(importances_xgb)), d.keys())\n",
    "res"
   ]
  },
  {
   "cell_type": "code",
   "execution_count": 50,
   "metadata": {},
   "outputs": [],
   "source": [
    "high_risk_train = train_raw[y_train == 1]\n",
    "low_risk_train = train_raw[y_train == 0]\n",
    "\n",
    "high_risk_test = test_raw[y_test == 1]\n",
    "low_risk_test = test_raw[y_test == 0]"
   ]
  },
  {
   "cell_type": "code",
   "execution_count": 51,
   "metadata": {},
   "outputs": [
    {
     "data": {
      "text/markdown": [
       "**Distribution on background_diseases_binary: 0=No, 1=Yes**"
      ],
      "text/plain": [
       "<IPython.core.display.Markdown object>"
      ]
     },
     "metadata": {},
     "output_type": "display_data"
    },
    {
     "data": {
      "image/png": "[encoded data removed]",
      "text/plain": [
       "<Figure size 864x216 with 2 Axes>"
      ]
     },
     "metadata": {
      "needs_background": "light"
     },
     "output_type": "display_data"
    }
   ],
   "source": [
    "printmd('**Distribution on background_diseases_binary: 0=No, 1=Yes**')\n",
    "fig, (ax1, ax2) = plt.subplots(1, 2, figsize=(12,3))\n",
    "ax1.hist(high_risk_train['background_diseases_binary'], alpha=0.5, density=True, label='high risk')\n",
    "ax1.hist(low_risk_train['background_diseases_binary'], alpha=0.5, density=True, label='low risk')\n",
    "ax1.set_title('train_raw')\n",
    "ax2.hist(high_risk_test['background_diseases_binary'], alpha=0.5, density=True, label='high risk')\n",
    "ax2.hist(low_risk_test['background_diseases_binary'], alpha=0.5, density=True, label='low risk')\n",
    "ax2.set_title('test_raw')\n",
    "ax1.legend(loc=\"upper mid\")\n",
    "ax2.legend(loc=\"upper mid\")\n",
    "ax2.set_xlabel('background_diseases_binary')\n",
    "ax1.set_xlabel('background_diseases_binary')\n",
    "ax1.set_xticks(high_risk_train['background_diseases_binary'].values)\n",
    "ax2.set_xticks(high_risk_train['background_diseases_binary'].values)\n",
    "plt.show()"
   ]
  },
  {
   "cell_type": "code",
   "execution_count": 52,
   "metadata": {},
   "outputs": [
    {
     "data": {
      "text/markdown": [
       "**Distribution on sex: 0=male, 1=female**"
      ],
      "text/plain": [
       "<IPython.core.display.Markdown object>"
      ]
     },
     "metadata": {},
     "output_type": "display_data"
    },
    {
     "data": {
      "image/png": "[encoded data removed]",
      "text/plain": [
       "<Figure size 864x216 with 2 Axes>"
      ]
     },
     "metadata": {
      "needs_background": "light"
     },
     "output_type": "display_data"
    }
   ],
   "source": [
    "printmd('**Distribution on sex: 0=male, 1=female**')\n",
    "fig, (ax1, ax2) = plt.subplots(1, 2, figsize=(12,3))\n",
    "ax1.hist(high_risk_train['sex'], alpha=0.5, density=True, label='high risk')\n",
    "ax1.hist(low_risk_train['sex'], alpha=0.5, density=True, label='low risk')\n",
    "ax1.set_title('train_raw')\n",
    "ax2.hist(high_risk_test['sex'], alpha=0.5, density=True, label='high risk')\n",
    "ax2.hist(low_risk_test['sex'], alpha=0.5, density=True, label='low risk')\n",
    "ax2.set_title('test_raw')\n",
    "ax1.legend(loc=\"upper mid\")\n",
    "ax2.legend(loc=\"upper mid\")\n",
    "ax2.set_xlabel('sex')\n",
    "ax1.set_xlabel('sex')\n",
    "ax1.set_xticks(high_risk_train['sex'].values)\n",
    "ax2.set_xticks(high_risk_train['sex'].values)\n",
    "plt.show()"
   ]
  },
  {
   "cell_type": "code",
   "execution_count": 53,
   "metadata": {},
   "outputs": [
    {
     "data": {
      "text/markdown": [
       "**Distribution on age**"
      ],
      "text/plain": [
       "<IPython.core.display.Markdown object>"
      ]
     },
     "metadata": {},
     "output_type": "display_data"
    },
    {
     "data": {
      "image/png": "[encoded data removed]",
      "text/plain": [
       "<Figure size 864x216 with 2 Axes>"
      ]
     },
     "metadata": {
      "needs_background": "light"
     },
     "output_type": "display_data"
    }
   ],
   "source": [
    "printmd('**Distribution on age**')\n",
    "fig, (ax1, ax2) = plt.subplots(1, 2, figsize=(12,3))\n",
    "ax1.hist(high_risk_train['age'], alpha=0.5, density=True, label='high risk')\n",
    "ax1.hist(low_risk_train['age'], alpha=0.5, density=True, label='low risk')\n",
    "ax1.set_title('train_raw')\n",
    "ax2.hist(high_risk_test['age'], alpha=0.5, density=True, label='high risk')\n",
    "ax2.hist(low_risk_test['age'], alpha=0.5, density=True, label='low risk')\n",
    "ax2.set_title('test_raw')\n",
    "ax1.legend(loc=\"upper mid\")\n",
    "ax2.legend(loc=\"upper mid\")\n",
    "ax2.set_xlabel('age')\n",
    "ax1.set_xlabel('age')\n",
    "plt.show()"
   ]
  },
  {
   "cell_type": "code",
   "execution_count": 54,
   "metadata": {},
   "outputs": [
    {
     "data": {
      "text/markdown": [
       "**Distribution on smoking: 0=No, 1=Yes**"
      ],
      "text/plain": [
       "<IPython.core.display.Markdown object>"
      ]
     },
     "metadata": {},
     "output_type": "display_data"
    },
    {
     "data": {
      "image/png": "[encoded data removed]",
      "text/plain": [
       "<Figure size 864x216 with 2 Axes>"
      ]
     },
     "metadata": {
      "needs_background": "light"
     },
     "output_type": "display_data"
    }
   ],
   "source": [
    "printmd('**Distribution on smoking: 0=No, 1=Yes**')\n",
    "fig, (ax1, ax2) = plt.subplots(1, 2, figsize=(12,3))\n",
    "ax1.hist(high_risk_train['smoking'], alpha=0.5, density=True, label='high risk')\n",
    "ax1.hist(low_risk_train['smoking'], alpha=0.5, density=True, label='low risk')\n",
    "ax1.set_title('train_raw')\n",
    "ax2.hist(high_risk_test['smoking'], alpha=0.5, density=True, label='high risk')\n",
    "ax2.hist(low_risk_test['smoking'], alpha=0.5, density=True, label='low risk')\n",
    "ax2.set_title('test_raw')\n",
    "ax1.legend(loc=\"upper mid\")\n",
    "ax2.legend(loc=\"upper mid\")\n",
    "ax2.set_xlabel('smoking')\n",
    "ax1.set_xlabel('smoking')\n",
    "ax1.set_xticks(high_risk_train['smoking'].values)\n",
    "ax2.set_xticks(high_risk_train['smoking'].values)\n",
    "plt.show()"
   ]
  },
  {
   "cell_type": "code",
   "execution_count": 55,
   "metadata": {},
   "outputs": [],
   "source": [
    "female_train = train_raw[X_train['sex'] == 1]\n",
    "male_train = train_raw[X_train['sex'] == 0]\n",
    "\n",
    "female_test = test_raw[X_test['sex'] == 1]\n",
    "male_test = test_raw[X_test['sex'] == 0]"
   ]
  },
  {
   "cell_type": "code",
   "execution_count": 56,
   "metadata": {
    "scrolled": true
   },
   "outputs": [
    {
     "data": {
      "text/markdown": [
       "**Gender distribution on age**"
      ],
      "text/plain": [
       "<IPython.core.display.Markdown object>"
      ]
     },
     "metadata": {},
     "output_type": "display_data"
    },
    {
     "data": {
      "image/png": "[encoded data removed]",
      "text/plain": [
       "<Figure size 864x216 with 2 Axes>"
      ]
     },
     "metadata": {
      "needs_background": "light"
     },
     "output_type": "display_data"
    }
   ],
   "source": [
    "printmd('**Gender distribution on age**')\n",
    "fig, (ax1, ax2) = plt.subplots(1, 2, figsize=(12,3))\n",
    "ax1.hist(female_train['age'], alpha=0.5, density=True, label='female')\n",
    "ax1.hist(male_train['age'], alpha=0.5, density=True, label='male')\n",
    "ax1.set_title('train_raw')\n",
    "ax2.hist(female_test['age'], alpha=0.5, density=True, label='female')\n",
    "ax2.hist(male_test['age'], alpha=0.5, density=True, label='male')\n",
    "ax2.set_title('test_raw')\n",
    "ax1.legend(loc=\"upper mid\")\n",
    "ax2.legend(loc=\"upper mid\")\n",
    "ax2.set_xlabel('age')\n",
    "ax1.set_xlabel('age')\n",
    "plt.show()"
   ]
  },
  {
   "cell_type": "markdown",
   "metadata": {},
   "source": [
    "### 3. After modeling analyzing"
   ]
  },
  {
   "cell_type": "markdown",
   "metadata": {},
   "source": [
    "1. Aged people, especially those who have background diseases should be more cautious about COVID-19.\n",
    "2. Unexpectedly but interestingly, people who have asthma seem to be less risky to the virus. Can the medicines for asthma do something?"
   ]
  }
 ],
 "metadata": {
  "kernelspec": {
   "display_name": "Python 3",
   "language": "python",
   "name": "python3"
  },
  "language_info": {
   "codemirror_mode": {
    "name": "ipython",
    "version": 3
   },
   "file_extension": ".py",
   "mimetype": "text/x-python",
   "name": "python",
   "nbconvert_exporter": "python",
   "pygments_lexer": "ipython3",
   "version": "3.7.6"
  }
 },
 "nbformat": 4,
 "nbformat_minor": 4
}
